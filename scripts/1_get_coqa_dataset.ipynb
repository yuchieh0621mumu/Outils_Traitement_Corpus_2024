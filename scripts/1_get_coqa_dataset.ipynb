{
 "cells": [
  {
   "cell_type": "code",
   "execution_count": null,
   "metadata": {},
   "outputs": [],
   "source": [
    "#retrive coqa dataset from huggingface\n",
    "from datasets import load_dataset\n",
    "\n",
    "dataset = load_dataset(\"stanfordnlp/coqa\")\n",
    "train_df = dataset[\"train\"].to_pandas()\n",
    "print(train_df)\n"
   ]
  },
  {
   "cell_type": "code",
   "execution_count": null,
   "metadata": {},
   "outputs": [],
   "source": [
    "from datasets import load_dataset\n",
    "import pandas as pd\n",
    "\n",
    "def save_dataset_as_csv(dataset_name, dataset_config, dataset_split, output_file):\n",
    "    dataset = load_dataset(dataset_name, dataset_config, split=dataset_split)\n",
    "    df = dataset.to_pandas()\n",
    "    df.to_csv(output_file, index=False)  \n",
    "\n",
    "\n",
    "save_dataset_as_csv('stanfordnlp/coqa', None, 'train', 'coqa_train.csv')\n"
   ]
  },
  {
   "cell_type": "code",
   "execution_count": null,
   "metadata": {},
   "outputs": [],
   "source": [
    "import pandas as pd\n",
    "import spacy\n",
    "\n",
    "def annotate_text(input_csv, output_csv):\n",
    "    nlp = spacy.load(\"en_core_web_sm\")\n",
    "\n",
    "    df = pd.read_csv(input_csv)\n",
    "\n",
    "    # Assuming the text column is named 'story'\n",
    "    df['story'] = df['story'].astype(str)\n",
    "    df['annotations'] = df['story'].apply(lambda x: [(token.text, token.pos_, token.dep_) for token in nlp(x)])\n",
    "    df.to_csv(output_csv, index=False)\n",
    "\n",
    "\n",
    "annotate_text('coqa_train.csv', 'annotated_coqa_train_output.csv')\n"
   ]
  }
 ],
 "metadata": {
  "kernelspec": {
   "display_name": "Python 3 (ipykernel)",
   "language": "python",
   "name": "python3"
  },
  "language_info": {
   "codemirror_mode": {
    "name": "ipython",
    "version": 3
   },
   "file_extension": ".py",
   "mimetype": "text/x-python",
   "name": "python",
   "nbconvert_exporter": "python",
   "pygments_lexer": "ipython3",
   "version": "3.8.19"
  }
 },
 "nbformat": 4,
 "nbformat_minor": 4
}
