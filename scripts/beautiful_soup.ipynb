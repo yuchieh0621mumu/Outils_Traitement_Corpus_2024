{
 "cells": [
  {
   "cell_type": "code",
   "execution_count": 3,
   "metadata": {},
   "outputs": [
    {
     "name": "stdout",
     "output_type": "stream",
     "text": [
      "Website Title: Xpath cheatsheet\n",
      "\n",
      "Paragraphs:\n",
      "1: Test queries in the Xpath test bed:\n",
      "2: Works in Firefox and Chrome.\n",
      "3: Xpath doesn’t have the “check if part of space-separated list” operator, so this is the workaround (source).\n",
      "4: Begin your expression with any of these.\n",
      "5: Separate your steps with/. Use two (//) if you don’t want to select direct children.\n",
      "6: A step may have an element name (div) andpredicates([...]). Both are optional.\n",
      "They can also be these other things:\n",
      "7: Restricts a nodeset only if some condition is true. They can be chained.\n",
      "8: Use comparison and logic operators to make conditionals.\n",
      "9: You can use nodes inside predicates.\n",
      "10: Use[]with a number, orlast()orposition().\n",
      "11: Order is significant, these two are different.\n",
      "12: This returns<section>if it has an<h1>descendant withid='hi'.\n",
      "13: Steps of an expression are separated by/, usually used to pick child nodes. That’s not always true: you can specify a different “axis” with::.\n",
      "14: child::is the default axis. This makes//a/b/cwork.\n",
      "15: //is short for thedescendant-or-self::axis.\n",
      "16: There are other axes you can use.\n",
      "17: Use|to join two expressions.\n",
      "18: Finds a<section>that directly containsh1#section-name\n",
      "19: Finds a<section>that containsh1#section-name.\n",
      "(Same as above, but uses descendant-or-self instead of child)\n",
      "20: Works like jQuery’s$().closest('.box').\n",
      "21: Finds<item>and check its attributes\n"
     ]
    }
   ],
   "source": [
    "import requests\n",
    "from bs4 import BeautifulSoup\n",
    "\n",
    "url = 'https://devhints.io/xpath'\n",
    "response = requests.get(url)\n",
    "html_content = response.text if response.status_code == 200 else None\n",
    "\n",
    "if html_content:\n",
    "   \n",
    "    soup = BeautifulSoup(html_content, 'html.parser')\n",
    "\n",
    "    \n",
    "    title = soup.find('title').get_text(strip=True)\n",
    "    paragraphs = [p.get_text(strip=True) for p in soup.find_all('p')]\n",
    "   \n",
    "    print(f\"Website Title: {title}\\n\")\n",
    "    print(\"Paragraphs:\")\n",
    "    for i, paragraph in enumerate(paragraphs, start=1):\n",
    "        print(f\"{i}: {paragraph}\")\n",
    "else:\n",
    "    print(\"Failed to retrieve the webpage.\")\n"
   ]
  },
  {
   "cell_type": "code",
   "execution_count": null,
   "metadata": {},
   "outputs": [],
   "source": [
    "git commit --amend --author="
   ]
  }
 ],
 "metadata": {
  "kernelspec": {
   "display_name": "Python 3",
   "language": "python",
   "name": "python3"
  },
  "language_info": {
   "codemirror_mode": {
    "name": "ipython",
    "version": 3
   },
   "file_extension": ".py",
   "mimetype": "text/x-python",
   "name": "python",
   "nbconvert_exporter": "python",
   "pygments_lexer": "ipython3",
   "version": "3.10.7"
  }
 },
 "nbformat": 4,
 "nbformat_minor": 2
}
