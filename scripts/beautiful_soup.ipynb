{
 "cells": [
  {
   "cell_type": "code",
   "execution_count": 28,
   "metadata": {},
   "outputs": [
    {
     "name": "stdout",
     "output_type": "stream",
     "text": [
      "Data has been saved to /Users/wenyoujie/Desktop/2023-2024_TAL_M1/Outils_Traitement_Corpus_2024/data/clean/Kate Middleton cancer diagnosis_ how the princess is one of the growing number of young people getting cancer - Vox.txt\n"
     ]
    }
   ],
   "source": [
    "import requests\n",
    "from bs4 import BeautifulSoup\n",
    "import os\n",
    "import re\n",
    "\n",
    "url = input(\"Please enter a URL: \")\n",
    "\n",
    "base_dir = '/Users/wenyoujie/Desktop/2023-2024_TAL_M1/Outils_Traitement_Corpus_2024/data/clean/'\n",
    "\n",
    "response = requests.get(url)\n",
    "html_content = response.text if response.status_code == 200 else None\n",
    "\n",
    "if html_content:\n",
    "    soup = BeautifulSoup(html_content, 'html.parser')\n",
    "\n",
    "  \n",
    "    title = soup.find('title').get_text(strip=True)\n",
    "    \n",
    "    cleaned_title = re.sub(r'[\\\\/*?:\"<>|]', '_', title)\n",
    "   \n",
    "    file_path = os.path.join(base_dir, f\"{cleaned_title}.txt\")\n",
    "\n",
    "  \n",
    "    paragraphs = [p.get_text(strip=True) for p in soup.find_all('p')]\n",
    "\n",
    "   \n",
    "    with open(file_path, 'w') as file:\n",
    "        file.write(f\"Website Title: {title}\\n\\n\")\n",
    "        file.write(\"Paragraphs:\\n\")\n",
    "        for i, paragraph in enumerate(paragraphs, start=1):\n",
    "             file.write(f\"Article ID {i}: {paragraph}\\n\")\n",
    "\n",
    "    print(f\"Data has been saved to {file_path}\")\n",
    "else:\n",
    "    print(\"Failed to retrieve the webpage or invalid URL.\")\n"
   ]
  },
  {
   "cell_type": "code",
   "execution_count": 27,
   "metadata": {},
   "outputs": [
    {
     "ename": "AttributeError",
     "evalue": "'NoneType' object has no attribute 'find'",
     "output_type": "error",
     "traceback": [
      "\u001b[0;31m---------------------------------------------------------------------------\u001b[0m",
      "\u001b[0;31mAttributeError\u001b[0m                            Traceback (most recent call last)",
      "Cell \u001b[0;32mIn [27], line 9\u001b[0m\n\u001b[1;32m      4\u001b[0m r \u001b[38;5;241m=\u001b[39m requests\u001b[38;5;241m.\u001b[39mget(\u001b[38;5;124m'\u001b[39m\u001b[38;5;124mhttps://www.vox.com/future-perfect/24108991/kate-middleton-catherine-wales-cancer-trends-diagnosis-youth\u001b[39m\u001b[38;5;124m'\u001b[39m)\n\u001b[1;32m      6\u001b[0m root \u001b[38;5;241m=\u001b[39m BeautifulSoup(r\u001b[38;5;241m.\u001b[39mcontent\u001b[38;5;241m.\u001b[39mdecode(\u001b[38;5;124m'\u001b[39m\u001b[38;5;124mutf-8\u001b[39m\u001b[38;5;124m'\u001b[39m), \u001b[38;5;124m'\u001b[39m\u001b[38;5;124mhtml.parser\u001b[39m\u001b[38;5;124m'\u001b[39m)\n\u001b[0;32m----> 9\u001b[0m div1 \u001b[38;5;241m=\u001b[39m \u001b[43mroot\u001b[49m\u001b[38;5;241;43m.\u001b[39;49m\u001b[43mfind\u001b[49m\u001b[43m(\u001b[49m\u001b[38;5;124;43m\"\u001b[39;49m\u001b[38;5;124;43mdiv\u001b[39;49m\u001b[38;5;124;43m\"\u001b[39;49m\u001b[43m,\u001b[49m\u001b[43m \u001b[49m\u001b[43m{\u001b[49m\u001b[38;5;124;43m\"\u001b[39;49m\u001b[38;5;124;43mclass\u001b[39;49m\u001b[38;5;124;43m\"\u001b[39;49m\u001b[43m:\u001b[49m\u001b[43m \u001b[49m\u001b[38;5;124;43m\"\u001b[39;49m\u001b[38;5;124;43mmw-page-container\u001b[39;49m\u001b[38;5;124;43m\"\u001b[39;49m\u001b[43m}\u001b[49m\u001b[43m)\u001b[49m\u001b[38;5;241;43m.\u001b[39;49m\u001b[43mfind\u001b[49m(\u001b[38;5;124m\"\u001b[39m\u001b[38;5;124mdiv\u001b[39m\u001b[38;5;124m\"\u001b[39m, {\u001b[38;5;124m\"\u001b[39m\u001b[38;5;124mclass\u001b[39m\u001b[38;5;124m\"\u001b[39m: \u001b[38;5;124m\"\u001b[39m\u001b[38;5;124mmw-content-container\u001b[39m\u001b[38;5;124m\"\u001b[39m})\u001b[38;5;241m.\u001b[39mmain\u001b[38;5;241m.\u001b[39mfind(\u001b[38;5;124m\"\u001b[39m\u001b[38;5;124mdiv\u001b[39m\u001b[38;5;124m\"\u001b[39m, {\u001b[38;5;124m\"\u001b[39m\u001b[38;5;124mid\u001b[39m\u001b[38;5;124m\"\u001b[39m: \u001b[38;5;124m\"\u001b[39m\u001b[38;5;124mbodyContent\u001b[39m\u001b[38;5;124m\"\u001b[39m})\u001b[38;5;241m.\u001b[39mfind(\u001b[38;5;124m\"\u001b[39m\u001b[38;5;124mdiv\u001b[39m\u001b[38;5;124m\"\u001b[39m, {\u001b[38;5;124m\"\u001b[39m\u001b[38;5;124mid\u001b[39m\u001b[38;5;124m\"\u001b[39m: \u001b[38;5;124m\"\u001b[39m\u001b[38;5;124mmw-content-text\u001b[39m\u001b[38;5;124m\"\u001b[39m})\n\u001b[1;32m     10\u001b[0m div2 \u001b[38;5;241m=\u001b[39m root\u001b[38;5;241m.\u001b[39mfind(\u001b[38;5;124m\"\u001b[39m\u001b[38;5;124mdiv\u001b[39m\u001b[38;5;124m\"\u001b[39m, {\u001b[38;5;124m\"\u001b[39m\u001b[38;5;124mclass\u001b[39m\u001b[38;5;124m\"\u001b[39m: \u001b[38;5;124m\"\u001b[39m\u001b[38;5;124mmw-page-container\u001b[39m\u001b[38;5;124m\"\u001b[39m})\u001b[38;5;241m.\u001b[39mfind(\u001b[38;5;124m\"\u001b[39m\u001b[38;5;124mdiv\u001b[39m\u001b[38;5;124m\"\u001b[39m, {\u001b[38;5;124m\"\u001b[39m\u001b[38;5;124mclass\u001b[39m\u001b[38;5;124m\"\u001b[39m: \u001b[38;5;124m\"\u001b[39m\u001b[38;5;124mmw-content-container\u001b[39m\u001b[38;5;124m\"\u001b[39m})\u001b[38;5;241m.\u001b[39mmain\u001b[38;5;241m.\u001b[39mfind(\u001b[38;5;124m\"\u001b[39m\u001b[38;5;124mdiv\u001b[39m\u001b[38;5;124m\"\u001b[39m, {\u001b[38;5;124m\"\u001b[39m\u001b[38;5;124mid\u001b[39m\u001b[38;5;124m\"\u001b[39m: \u001b[38;5;124m\"\u001b[39m\u001b[38;5;124mbodyContent\u001b[39m\u001b[38;5;124m\"\u001b[39m})\u001b[38;5;241m.\u001b[39mfind(\u001b[38;5;124m\"\u001b[39m\u001b[38;5;124mdiv\u001b[39m\u001b[38;5;124m\"\u001b[39m, {\u001b[38;5;124m\"\u001b[39m\u001b[38;5;124mid\u001b[39m\u001b[38;5;124m\"\u001b[39m: \u001b[38;5;124m\"\u001b[39m\u001b[38;5;124mmw-content-text\u001b[39m\u001b[38;5;124m\"\u001b[39m})\n\u001b[1;32m     12\u001b[0m body_content \u001b[38;5;241m=\u001b[39m \u001b[38;5;124m\"\u001b[39m\u001b[38;5;124m \u001b[39m\u001b[38;5;124m\"\u001b[39m\u001b[38;5;241m.\u001b[39mjoin([p\u001b[38;5;241m.\u001b[39mget_text() \u001b[38;5;28;01mfor\u001b[39;00m p \u001b[38;5;129;01min\u001b[39;00m root\u001b[38;5;241m.\u001b[39mfind(\u001b[38;5;124m\"\u001b[39m\u001b[38;5;124mdiv\u001b[39m\u001b[38;5;124m\"\u001b[39m, {\u001b[38;5;124m\"\u001b[39m\u001b[38;5;124mid\u001b[39m\u001b[38;5;124m\"\u001b[39m: \u001b[38;5;124m\"\u001b[39m\u001b[38;5;124mbodyContent\u001b[39m\u001b[38;5;124m\"\u001b[39m})\u001b[38;5;241m.\u001b[39mfind_all(\u001b[38;5;124m\"\u001b[39m\u001b[38;5;124mp\u001b[39m\u001b[38;5;124m\"\u001b[39m, recursive\u001b[38;5;241m=\u001b[39m\u001b[38;5;28;01mFalse\u001b[39;00m)])\n",
      "\u001b[0;31mAttributeError\u001b[0m: 'NoneType' object has no attribute 'find'"
     ]
    }
   ],
   "source": [
    "from bs4 import BeautifulSoup\n",
    "import requests\n",
    "\n",
    "r = requests.get('https://www.vox.com/future-perfect/24108991/kate-middleton-catherine-wales-cancer-trends-diagnosis-youth')\n",
    "\n",
    "root = BeautifulSoup(r.content.decode('utf-8'), 'html.parser')\n",
    "\n",
    "\n",
    "div1 = root.find(\"div\", {\"class\": \"mw-page-container\"}).find(\"div\", {\"class\": \"mw-content-container\"}).main.find(\"div\", {\"id\": \"bodyContent\"}).find(\"div\", {\"id\": \"mw-content-text\"})\n",
    "div2 = root.find(\"div\", {\"class\": \"mw-page-container\"}).find(\"div\", {\"class\": \"mw-content-container\"}).main.find(\"div\", {\"id\": \"bodyContent\"}).find(\"div\", {\"id\": \"mw-content-text\"})\n",
    "\n",
    "body_content = \" \".join([p.get_text() for p in root.find(\"div\", {\"id\": \"bodyContent\"}).find_all(\"p\", recursive=False)])\n",
    "\n",
    "\n",
    "def get_first_header_text(bs_root):\n",
    "    content_div = bs_root.find(\"div\", {\"id\": \"bodyContent\"})\n",
    "    text = []\n",
    "    for element in content_div.find_all([\"p\", \"h2\"], recursive=True):\n",
    "        if element.name != \"h2\":\n",
    "            text.append(element.get_text().replace(\"\\n\", \" \"))\n",
    "        else:\n",
    "            break\n",
    "    return \" \".join(text)\n",
    "\n",
    "\n",
    "\n",
    "\n",
    "first_header_text_bs = get_first_header_text(root)\n",
    "print(first_header_text_bs)\n"
   ]
  },
  {
   "cell_type": "code",
   "execution_count": null,
   "metadata": {},
   "outputs": [],
   "source": [
    "/html/body/div[2]/div/div[3]/main/div[3]/div[3]/div[1]/h2[1]/span[2]"
   ]
  }
 ],
 "metadata": {
  "kernelspec": {
   "display_name": "Python 3",
   "language": "python",
   "name": "python3"
  },
  "language_info": {
   "codemirror_mode": {
    "name": "ipython",
    "version": 3
   },
   "file_extension": ".py",
   "mimetype": "text/x-python",
   "name": "python",
   "nbconvert_exporter": "python",
   "pygments_lexer": "ipython3",
   "version": "3.10.7"
  }
 },
 "nbformat": 4,
 "nbformat_minor": 2
}
