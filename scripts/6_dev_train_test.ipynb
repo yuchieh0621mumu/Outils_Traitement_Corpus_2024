{
 "cells": [
  {
   "cell_type": "code",
   "execution_count": 1,
   "id": "15f115aa-0daf-484d-b7a5-ec9e156ef46d",
   "metadata": {},
   "outputs": [
    {
     "data": {
      "text/plain": [
       "{'Train Set Size': 80, 'Dev Set Size': 10, 'Test Set Size': 11}"
      ]
     },
     "execution_count": 1,
     "metadata": {},
     "output_type": "execute_result"
    }
   ],
   "source": [
    "import pandas as pd\n",
    "from sklearn.model_selection import train_test_split\n",
    "\n",
    "\n",
    "new_corpus_path = '../data/new_corpus.csv' \n",
    "new_corpus_data = pd.read_csv(new_corpus_path)\n",
    "\n",
    "# Split the data into train (80%), dev (10%), and test (10%) sets\n",
    "train_data, temp_data = train_test_split(new_corpus_data, test_size=0.2, random_state=42)\n",
    "dev_data, test_data = train_test_split(temp_data, test_size=0.5, random_state=42)\n",
    "\n",
    "\n",
    "train_data.to_csv('../data/new_corpus_train.csv', index=False)\n",
    "dev_data.to_csv('../data/new_corpus_dev.csv', index=False)\n",
    "test_data.to_csv('../data/new_corpus_test.csv', index=False)\n",
    "\n",
    "split_sizes = {\n",
    "    \"Train Set Size\": len(train_data),\n",
    "    \"Dev Set Size\": len(dev_data),\n",
    "    \"Test Set Size\": len(test_data)\n",
    "}\n",
    "\n",
    "split_sizes\n"
   ]
  },
  {
   "cell_type": "code",
   "execution_count": null,
   "id": "99e9be81-b481-464e-a7f6-f2aa337f3e61",
   "metadata": {},
   "outputs": [],
   "source": []
  }
 ],
 "metadata": {
  "kernelspec": {
   "display_name": "Python 3 (ipykernel)",
   "language": "python",
   "name": "python3"
  },
  "language_info": {
   "codemirror_mode": {
    "name": "ipython",
    "version": 3
   },
   "file_extension": ".py",
   "mimetype": "text/x-python",
   "name": "python",
   "nbconvert_exporter": "python",
   "pygments_lexer": "ipython3",
   "version": "3.8.19"
  }
 },
 "nbformat": 4,
 "nbformat_minor": 5
}
